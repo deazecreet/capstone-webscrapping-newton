{
 "cells": [
  {
   "cell_type": "markdown",
   "id": "c1abaee5-2607-48d9-a7e7-d15fb44670c2",
   "metadata": {},
   "source": [
    "# 1. Import Necessary Library"
   ]
  },
  {
   "cell_type": "code",
   "execution_count": 2,
   "id": "a0a04060-e028-4a56-837c-771f2fec6869",
   "metadata": {},
   "outputs": [],
   "source": [
    "import requests\n",
    "from bs4 import BeautifulSoup\n",
    "import pandas as pd\n",
    "import seaborn as sns\n",
    "import matplotlib.pyplot as plt"
   ]
  },
  {
   "cell_type": "markdown",
   "id": "a4b23a32-d6d8-4cb4-a87f-1d6cd415bd2f",
   "metadata": {},
   "source": [
    "* Library requests untuk request/mengakses web yang akan discrapping.\n",
    "* Library bs4 dan mengimpor BeautifulSoup untuk melakukan scrapping.\n",
    "* Library pandas untuk membuat dataframe data Date & Volume dari Ethereum yang telah discrapping.\n",
    "* Library seaborn dan matplotlib untuk plot pergerakan volume perdagangan dari Ethereum."
   ]
  },
  {
   "cell_type": "markdown",
   "id": "0a9793fc-e6ed-4b53-b2cf-0883571ab1e0",
   "metadata": {},
   "source": [
    "# 2. Request & Scrapping Data"
   ]
  },
  {
   "cell_type": "code",
   "execution_count": 3,
   "id": "bca684ad-3c0a-49da-bb06-14ad565b18b9",
   "metadata": {},
   "outputs": [
    {
     "data": {
      "text/plain": [
       "b'<!DOCTYPE html>\\n<html lang=\"en\">\\n<head>\\n<script src=\"/cdn-cgi/apps/head/gYtXOyllgyP3-Z2iKTP8rRWGBm4.js\"></script><script async defer src=\"https://www.googleoptimize.com/optimize.js?id=GTM-W3CD992\"></script>\\n<meta charset=\"utf-8\">\\n<meta http-equiv=\"X-UA-Compatible\" content=\"IE=edge\">\\n<meta name=\"viewport\" content=\"width=device-width, initial-scale=1.0\">\\n<link rel=\"shortcut icon\" href=\"/favicon.ico\">\\n<link type=\"application/opensearchdescription+xml\" rel=\"search\" href=\"/OpensearchDescription.xml\" '"
      ]
     },
     "execution_count": 3,
     "metadata": {},
     "output_type": "execute_result"
    }
   ],
   "source": [
    "get_url = requests.get('https://www.coingecko.com/en/coins/ethereum/historical_data?start_date=2022-01-01&end_date=2023-03-29#panel')\n",
    "get_url.content[:500]"
   ]
  },
  {
   "cell_type": "markdown",
   "id": "81064f49-43b2-4e8a-ad1f-577c3636cfc3",
   "metadata": {},
   "source": [
    "> Melakukan request pada web Ethereum dengan `requests.get()` yang disimpan pada variabel `get_url`, lalu melihat isi/konten dari web yang direquest dan hanya ingin melihat 500 karakter saja."
   ]
  },
  {
   "cell_type": "code",
   "execution_count": 4,
   "id": "4dd4c39a-8940-458e-b58e-64c12397e728",
   "metadata": {},
   "outputs": [],
   "source": [
    "soup = BeautifulSoup(get_url.content, 'html.parser')"
   ]
  },
  {
   "cell_type": "markdown",
   "id": "8a36fa1b-adbb-463a-a713-4b80c54c3f30",
   "metadata": {},
   "source": [
    "> Menggunakan fungsi `BeautifulSoup()` untuk melakukan scrapping data yang konten/isinya adalah `get_url.content` dan `'html.parser'` agar dapat scrapping data pada web HTML dengan mudah dan efisien."
   ]
  },
  {
   "cell_type": "code",
   "execution_count": 5,
   "id": "a765706f-c6f3-4a7a-8735-fa17a0bc1688",
   "metadata": {},
   "outputs": [
    {
     "name": "stdout",
     "output_type": "stream",
     "text": [
      "<tbody data-target=\"historical.tableBody\">\n",
      " <tr>\n",
      "  <th class=\"font-semibold text-center\" scope=\"row\">\n",
      "   2023-03-29\n",
      "  </th>\n",
      "  <td class=\"text-center\">\n",
      "   $213,909,228,255\n",
      "  </td>\n",
      "  <td class=\"text-center\">\n",
      "   $9,548,011,564\n",
      "  </td>\n",
      "  <td class=\"text-center\">\n",
      "   $1,776.04\n",
      "  </td>\n",
      "  <td class=\"text-center\">\n",
      "   N/A\n",
      "  </td>\n",
      " </tr>\n",
      " <tr>\n",
      "  <th class=\"font-semibold text-center\" scope=\"row\">\n",
      "   2023-03-28\n",
      "  </th>\n",
      "  <td class=\"text-center\">\n",
      "   $206,685,090,341\n",
      "  </td>\n",
      "  <td class=\"text-center\">\n",
      "   $9,75\n"
     ]
    }
   ],
   "source": [
    "table = soup.find('tbody', attrs={'data-target':'historical.tableBody'})\n",
    "print(table.prettify()[:500])"
   ]
  },
  {
   "cell_type": "markdown",
   "id": "298ea6cd-812f-4eee-b6f2-aaca19fba2a2",
   "metadata": {},
   "source": [
    "> Melakukan pencarian data menggunakan `soup.find()` yang terdapat `tbody` dan `{'data-target':'historical.tableBody'}` pada parameter `soup.find()` karena mengacu pada bagian HTML `<tbody data-target=\"historical.tableBody\">`."
   ]
  },
  {
   "cell_type": "code",
   "execution_count": 6,
   "id": "a2a614a0-8f9c-4028-a436-b49a931540b2",
   "metadata": {},
   "outputs": [
    {
     "data": {
      "text/plain": [
       "[<th class=\"font-semibold text-center\" scope=\"row\">2023-03-29</th>,\n",
       " <th class=\"font-semibold text-center\" scope=\"row\">2023-03-28</th>,\n",
       " <th class=\"font-semibold text-center\" scope=\"row\">2023-03-27</th>,\n",
       " <th class=\"font-semibold text-center\" scope=\"row\">2023-03-26</th>,\n",
       " <th class=\"font-semibold text-center\" scope=\"row\">2023-03-25</th>]"
      ]
     },
     "execution_count": 6,
     "metadata": {},
     "output_type": "execute_result"
    }
   ],
   "source": [
    "table.find_all('th', attrs={'scope':'row', 'class':'font-semibold text-center'})[:5]"
   ]
  },
  {
   "cell_type": "code",
   "execution_count": 7,
   "id": "ce8b16be-5192-4307-8388-0b2f49680033",
   "metadata": {},
   "outputs": [
    {
     "data": {
      "text/plain": [
       "'2023-03-29'"
      ]
     },
     "execution_count": 7,
     "metadata": {},
     "output_type": "execute_result"
    }
   ],
   "source": [
    "table.find_all('th', attrs={'scope':'row', 'class':'font-semibold text-center'})[0].text"
   ]
  },
  {
   "cell_type": "code",
   "execution_count": 8,
   "id": "ea65fd64-6258-4d13-88ef-9638f13d7d8e",
   "metadata": {},
   "outputs": [
    {
     "data": {
      "text/plain": [
       "[<td class=\"text-center\">\n",
       " $213,909,228,255\n",
       " </td>,\n",
       " <td class=\"text-center\">\n",
       " $9,548,011,564\n",
       " </td>,\n",
       " <td class=\"text-center\">\n",
       " $1,776.04\n",
       " </td>,\n",
       " <td class=\"text-center\">\n",
       " N/A\n",
       " </td>,\n",
       " <td class=\"text-center\">\n",
       " $206,685,090,341\n",
       " </td>]"
      ]
     },
     "execution_count": 8,
     "metadata": {},
     "output_type": "execute_result"
    }
   ],
   "source": [
    "table.find_all('td', attrs={'class':'text-center'})[:5]"
   ]
  },
  {
   "cell_type": "code",
   "execution_count": 9,
   "id": "7ab5c16a-28d8-4a7e-bf54-cb824a61ae82",
   "metadata": {},
   "outputs": [
    {
     "data": {
      "text/plain": [
       "'\\n$213,909,228,255\\n'"
      ]
     },
     "execution_count": 9,
     "metadata": {},
     "output_type": "execute_result"
    }
   ],
   "source": [
    "table.find_all('td', attrs={'class':'text-center'})[0].text"
   ]
  },
  {
   "cell_type": "code",
   "execution_count": 10,
   "id": "ce0112c0-7dd2-41e1-8066-973dd7ec00e3",
   "metadata": {},
   "outputs": [
    {
     "data": {
      "text/plain": [
       "'$9,548,011,564'"
      ]
     },
     "execution_count": 10,
     "metadata": {},
     "output_type": "execute_result"
    }
   ],
   "source": [
    "table.find_all('td', attrs={'class':'text-center'})[1].text.strip()"
   ]
  },
  {
   "cell_type": "markdown",
   "id": "ac7a0ecf-b4e0-4e4b-8f2d-5e91d8c32838",
   "metadata": {},
   "source": [
    "> Melakukan `table.find_all()` untuk mencari value/nilai yang mana dalam kasus ini mencari nilai/value pada suatu kolom tertentu."
   ]
  },
  {
   "cell_type": "code",
   "execution_count": 11,
   "id": "b3b5cbdc-f63b-433d-9ff3-a482bd13f78b",
   "metadata": {},
   "outputs": [
    {
     "name": "stdout",
     "output_type": "stream",
     "text": [
      "Banyak Data Tanggal: 60 \n",
      "\n",
      "['2023-03-29', '2023-03-28', '2023-03-27', '2023-03-26', '2023-03-25', '2023-03-24', '2023-03-23', '2023-03-22', '2023-03-21', '2023-03-20', '2023-03-19', '2023-03-18', '2023-03-17', '2023-03-16', '2023-03-15', '2023-03-14', '2023-03-13', '2023-03-12', '2023-03-11', '2023-03-10', '2023-03-09', '2023-03-08', '2023-03-07', '2023-03-06', '2023-03-05', '2023-03-04', '2023-03-03', '2023-03-02', '2023-03-01', '2023-02-28', '2023-02-27', '2023-02-26', '2023-02-25', '2023-02-24', '2023-02-23', '2023-02-22', '2023-02-21', '2023-02-20', '2023-02-19', '2023-02-18', '2023-02-17', '2023-02-16', '2023-02-15', '2023-02-14', '2023-02-13', '2023-02-12', '2023-02-11', '2023-02-10', '2023-02-09', '2023-02-08', '2023-02-07', '2023-02-06', '2023-02-05', '2023-02-04', '2023-02-03', '2023-02-02', '2023-02-01', '2023-01-31', '2023-01-30', '2023-01-29']\n"
     ]
    }
   ],
   "source": [
    "list_tanggal = []\n",
    "row_length = len(table.find_all('th', attrs={'scope':'row', 'class':'font-semibold text-center'}))\n",
    "print(\"Banyak Data Tanggal:\", row_length,\"\\n\")\n",
    "\n",
    "for i in range(0, row_length):\n",
    "    tanggal = table.find_all('th', attrs={'scope':'row', 'class':'font-semibold text-center'})[i].text\n",
    "    list_tanggal.append(tanggal)\n",
    "    \n",
    "print(list_tanggal)"
   ]
  },
  {
   "cell_type": "markdown",
   "id": "cc45cdf0-37fc-4b27-80ff-9e5673906313",
   "metadata": {},
   "source": [
    "> Melakukan iterasi dari 0 sampai panjang baris data `Date`, yaitu sampai 60 dan dimasukkan ke dalam list `list_tanggal`"
   ]
  },
  {
   "cell_type": "code",
   "execution_count": 12,
   "id": "fb33ab53-c83d-4ca7-9d5b-cba4e040acf3",
   "metadata": {},
   "outputs": [
    {
     "name": "stdout",
     "output_type": "stream",
     "text": [
      "Banyak Data Volume: 60 \n",
      "\n",
      "['$9,548,011,564', '$9,757,415,238', '$8,417,258,785', '$8,023,849,174', '$11,601,017,882', '$10,980,967,035', '$13,820,716,100', '$10,831,022,955', '$12,973,595,973', '$10,745,813,975', '$11,976,182,095', '$14,459,727,611', '$30,201,930,395', '$17,257,648,020', '$19,833,762,798', '$65,211,714,925', '$13,967,891,188', '$18,345,198,261', '$14,696,381,617', '$10,861,201,441', '$11,881,879,819', '$8,523,808,477', '$6,627,693,314', '$62,172,854,406', '$4,800,994,312', '$11,179,316,252', '$7,930,395,056', '$8,672,222,866', '$6,883,711,562', '$7,916,573,299', '$6,357,994,998', '$6,117,521,125', '$9,609,840,835', '$9,698,749,202', '$9,836,391,622', '$9,728,814,194', '$8,435,810,846', '$7,499,517,187', '$5,863,446,679', '$10,807,323,084', '$13,388,835,215', '$11,079,231,384', '$11,723,184,974', '$11,573,812,956', '$6,128,794,710', '$6,070,233,326', '$9,882,779,900', '$12,447,757,846', '$8,766,845,417', '$9,180,247,306', '$7,825,100,535', '$8,211,226,952', '$6,766,208,820', '$9,528,083,088', '$12,542,560,274', '$9,295,116,916', '$7,544,090,212', '$10,977,781,768', '$10,037,370,816', '$6,523,949,725']\n"
     ]
    }
   ],
   "source": [
    "increment = 1\n",
    "list_volume = []\n",
    "while len(list_volume) != 60:\n",
    "    volume = table.find_all('td', attrs={'class':'text-center'})[increment].text.strip()\n",
    "    list_volume.append(volume)\n",
    "    increment += 4\n",
    "\n",
    "print(\"Banyak Data Volume:\",len(list_volume),\"\\n\")\n",
    "print(list_volume)"
   ]
  },
  {
   "cell_type": "markdown",
   "id": "c016aa3d-de43-4440-83e1-9e6180e0d6eb",
   "metadata": {},
   "source": [
    "> Melakukan iterasi ketika panjang `list_volume` tidak sama dengan 60 (karena ingin menyamakan dengan `list_tanggal`). Melakukan iterasi dari 1 karena index value kolom `volume` awal adalah index 1. Setelah memasukkan nilai volume ke `list_volume`, iterasi selalu ditambah 4 karena nilai volume adalah indexnya selalu ditambah 4 jika dicocokkan pada tabel websitenya."
   ]
  },
  {
   "cell_type": "markdown",
   "id": "540a5f01-c8b0-426e-b5a8-3266dc99f200",
   "metadata": {},
   "source": [
    "# 3. Data Wrangling & Visualization"
   ]
  },
  {
   "cell_type": "code",
   "execution_count": 13,
   "id": "92fda7ef-9088-494f-a7f2-14d9fdac19f0",
   "metadata": {},
   "outputs": [
    {
     "data": {
      "text/html": [
       "<div>\n",
       "<style scoped>\n",
       "    .dataframe tbody tr th:only-of-type {\n",
       "        vertical-align: middle;\n",
       "    }\n",
       "\n",
       "    .dataframe tbody tr th {\n",
       "        vertical-align: top;\n",
       "    }\n",
       "\n",
       "    .dataframe thead th {\n",
       "        text-align: right;\n",
       "    }\n",
       "</style>\n",
       "<table border=\"1\" class=\"dataframe\">\n",
       "  <thead>\n",
       "    <tr style=\"text-align: right;\">\n",
       "      <th></th>\n",
       "      <th>Date</th>\n",
       "      <th>Volume ($)</th>\n",
       "    </tr>\n",
       "  </thead>\n",
       "  <tbody>\n",
       "    <tr>\n",
       "      <th>0</th>\n",
       "      <td>2023-03-29</td>\n",
       "      <td>$9,548,011,564</td>\n",
       "    </tr>\n",
       "    <tr>\n",
       "      <th>1</th>\n",
       "      <td>2023-03-28</td>\n",
       "      <td>$9,757,415,238</td>\n",
       "    </tr>\n",
       "    <tr>\n",
       "      <th>2</th>\n",
       "      <td>2023-03-27</td>\n",
       "      <td>$8,417,258,785</td>\n",
       "    </tr>\n",
       "    <tr>\n",
       "      <th>3</th>\n",
       "      <td>2023-03-26</td>\n",
       "      <td>$8,023,849,174</td>\n",
       "    </tr>\n",
       "    <tr>\n",
       "      <th>4</th>\n",
       "      <td>2023-03-25</td>\n",
       "      <td>$11,601,017,882</td>\n",
       "    </tr>\n",
       "  </tbody>\n",
       "</table>\n",
       "</div>"
      ],
      "text/plain": [
       "         Date       Volume ($)\n",
       "0  2023-03-29   $9,548,011,564\n",
       "1  2023-03-28   $9,757,415,238\n",
       "2  2023-03-27   $8,417,258,785\n",
       "3  2023-03-26   $8,023,849,174\n",
       "4  2023-03-25  $11,601,017,882"
      ]
     },
     "execution_count": 13,
     "metadata": {},
     "output_type": "execute_result"
    }
   ],
   "source": [
    "df = pd.DataFrame({\"Date\":list_tanggal, \"Volume ($)\":list_volume})\n",
    "df.head()"
   ]
  },
  {
   "cell_type": "markdown",
   "id": "0b0011f8-44d2-47d7-accb-fd9ccb3e07af",
   "metadata": {},
   "source": [
    "> Membuat dataframe dari hasil scrapping `Date` dan `Volume` yang telah dilakukan sebelumnya"
   ]
  },
  {
   "cell_type": "code",
   "execution_count": 14,
   "id": "6551c1bc-a9ea-475c-9ff8-52a01506f724",
   "metadata": {},
   "outputs": [
    {
     "data": {
      "text/plain": [
       "Date          object\n",
       "Volume ($)    object\n",
       "dtype: object"
      ]
     },
     "execution_count": 14,
     "metadata": {},
     "output_type": "execute_result"
    }
   ],
   "source": [
    "df.dtypes"
   ]
  },
  {
   "cell_type": "markdown",
   "id": "a0c3923c-8f28-4eae-b2e6-bbdc888df24d",
   "metadata": {},
   "source": [
    "> Tipe data awal adalah keduanya sama-sama object"
   ]
  },
  {
   "cell_type": "code",
   "execution_count": 15,
   "id": "a7092f4e-bc65-4ef5-810f-30bd8e0da599",
   "metadata": {},
   "outputs": [
    {
     "name": "stderr",
     "output_type": "stream",
     "text": [
      "C:\\Users\\logar\\AppData\\Local\\Temp\\ipykernel_9860\\1798276861.py:2: FutureWarning: The default value of regex will change from True to False in a future version. In addition, single character regular expressions will *not* be treated as literal strings when regex=True.\n",
      "  df[\"Volume ($)\"] = df[\"Volume ($)\"].str.replace(\"$\", \"\")\n"
     ]
    }
   ],
   "source": [
    "df[\"Date\"] = pd.to_datetime(df[\"Date\"])\n",
    "df[\"Volume ($)\"] = df[\"Volume ($)\"].str.replace(\"$\", \"\")\n",
    "df[\"Volume ($)\"] = df[\"Volume ($)\"].str.replace(\",\", \"\")\n",
    "df[\"Volume ($)\"] = df[\"Volume ($)\"].astype('int64')"
   ]
  },
  {
   "cell_type": "markdown",
   "id": "8d4fa9ce-df3d-40f6-9a6b-6bdf0d7b510f",
   "metadata": {},
   "source": [
    "* Mengganti tipe data kolom `Date` ke tipe data `datetime`\n",
    "* Menghapus tanda dollar dan tanda koma pada nilai kolom `Volume ($)` lalu mengubahnya menjadi tipe data integer"
   ]
  },
  {
   "cell_type": "code",
   "execution_count": 16,
   "id": "5351c285-ee0b-4e93-9b7f-e4dd4f76bda9",
   "metadata": {},
   "outputs": [
    {
     "data": {
      "text/html": [
       "<div>\n",
       "<style scoped>\n",
       "    .dataframe tbody tr th:only-of-type {\n",
       "        vertical-align: middle;\n",
       "    }\n",
       "\n",
       "    .dataframe tbody tr th {\n",
       "        vertical-align: top;\n",
       "    }\n",
       "\n",
       "    .dataframe thead th {\n",
       "        text-align: right;\n",
       "    }\n",
       "</style>\n",
       "<table border=\"1\" class=\"dataframe\">\n",
       "  <thead>\n",
       "    <tr style=\"text-align: right;\">\n",
       "      <th></th>\n",
       "      <th>Date</th>\n",
       "      <th>Volume ($)</th>\n",
       "    </tr>\n",
       "  </thead>\n",
       "  <tbody>\n",
       "    <tr>\n",
       "      <th>0</th>\n",
       "      <td>2023-03-29</td>\n",
       "      <td>9548011564</td>\n",
       "    </tr>\n",
       "    <tr>\n",
       "      <th>1</th>\n",
       "      <td>2023-03-28</td>\n",
       "      <td>9757415238</td>\n",
       "    </tr>\n",
       "    <tr>\n",
       "      <th>2</th>\n",
       "      <td>2023-03-27</td>\n",
       "      <td>8417258785</td>\n",
       "    </tr>\n",
       "    <tr>\n",
       "      <th>3</th>\n",
       "      <td>2023-03-26</td>\n",
       "      <td>8023849174</td>\n",
       "    </tr>\n",
       "    <tr>\n",
       "      <th>4</th>\n",
       "      <td>2023-03-25</td>\n",
       "      <td>11601017882</td>\n",
       "    </tr>\n",
       "  </tbody>\n",
       "</table>\n",
       "</div>"
      ],
      "text/plain": [
       "        Date   Volume ($)\n",
       "0 2023-03-29   9548011564\n",
       "1 2023-03-28   9757415238\n",
       "2 2023-03-27   8417258785\n",
       "3 2023-03-26   8023849174\n",
       "4 2023-03-25  11601017882"
      ]
     },
     "execution_count": 16,
     "metadata": {},
     "output_type": "execute_result"
    }
   ],
   "source": [
    "df.head()"
   ]
  },
  {
   "cell_type": "code",
   "execution_count": 17,
   "id": "d7e2f04f-0cf3-4e5b-9f54-275c2f89670c",
   "metadata": {},
   "outputs": [
    {
     "data": {
      "text/plain": [
       "Date          datetime64[ns]\n",
       "Volume ($)             int64\n",
       "dtype: object"
      ]
     },
     "execution_count": 17,
     "metadata": {},
     "output_type": "execute_result"
    }
   ],
   "source": [
    "df.dtypes"
   ]
  },
  {
   "cell_type": "markdown",
   "id": "af8feb34-1ed3-4268-b157-622834c041b6",
   "metadata": {},
   "source": [
    "> Tipe data kolom `Date` dan `Volume ($)` telah berhasil diubah"
   ]
  },
  {
   "cell_type": "code",
   "execution_count": 18,
   "id": "52989154-ebb6-47d0-a622-00d35ab0209c",
   "metadata": {},
   "outputs": [
    {
     "data": {
      "text/html": [
       "<div>\n",
       "<style scoped>\n",
       "    .dataframe tbody tr th:only-of-type {\n",
       "        vertical-align: middle;\n",
       "    }\n",
       "\n",
       "    .dataframe tbody tr th {\n",
       "        vertical-align: top;\n",
       "    }\n",
       "\n",
       "    .dataframe thead th {\n",
       "        text-align: right;\n",
       "    }\n",
       "</style>\n",
       "<table border=\"1\" class=\"dataframe\">\n",
       "  <thead>\n",
       "    <tr style=\"text-align: right;\">\n",
       "      <th></th>\n",
       "      <th>Date</th>\n",
       "      <th>Volume ($)</th>\n",
       "    </tr>\n",
       "  </thead>\n",
       "  <tbody>\n",
       "    <tr>\n",
       "      <th>0</th>\n",
       "      <td>2023-01-29</td>\n",
       "      <td>6523949725</td>\n",
       "    </tr>\n",
       "    <tr>\n",
       "      <th>1</th>\n",
       "      <td>2023-01-30</td>\n",
       "      <td>10037370816</td>\n",
       "    </tr>\n",
       "    <tr>\n",
       "      <th>2</th>\n",
       "      <td>2023-01-31</td>\n",
       "      <td>10977781768</td>\n",
       "    </tr>\n",
       "    <tr>\n",
       "      <th>3</th>\n",
       "      <td>2023-02-01</td>\n",
       "      <td>7544090212</td>\n",
       "    </tr>\n",
       "    <tr>\n",
       "      <th>4</th>\n",
       "      <td>2023-02-02</td>\n",
       "      <td>9295116916</td>\n",
       "    </tr>\n",
       "  </tbody>\n",
       "</table>\n",
       "</div>"
      ],
      "text/plain": [
       "        Date   Volume ($)\n",
       "0 2023-01-29   6523949725\n",
       "1 2023-01-30  10037370816\n",
       "2 2023-01-31  10977781768\n",
       "3 2023-02-01   7544090212\n",
       "4 2023-02-02   9295116916"
      ]
     },
     "execution_count": 18,
     "metadata": {},
     "output_type": "execute_result"
    }
   ],
   "source": [
    "df = df.sort_values(\"Date\")\n",
    "df.reset_index(drop=True, inplace=True)\n",
    "df.head()"
   ]
  },
  {
   "cell_type": "markdown",
   "id": "172ea084-b2de-43f9-951e-1f12820b2d79",
   "metadata": {},
   "source": [
    "> Melakukan sort dataframe sesuai dengan kolom `Date` untuk melakukan line plot yang menunjukkan plot data time series."
   ]
  },
  {
   "cell_type": "code",
   "execution_count": 19,
   "id": "1b928784-0452-47aa-9b82-eeb009059741",
   "metadata": {},
   "outputs": [
    {
     "data": {
      "image/png": "[encoded data removed]",
      "text/plain": [
       "<Figure size 640x480 with 1 Axes>"
      ]
     },
     "metadata": {},
     "output_type": "display_data"
    }
   ],
   "source": [
    "sns.lineplot(data=df, x=\"Date\", y=\"Volume ($)\")\n",
    "plt.xticks(fontsize=6)\n",
    "plt.show()"
   ]
  },
  {
   "cell_type": "markdown",
   "id": "f6a791e8-8f20-4452-8bba-ee2a7d1d4811",
   "metadata": {},
   "source": [
    "> Line plot dengan sumbu x adalah kolom `Date` dan sumbu y adalah kolom `Volume ($)` dan mengatur ukuran xlabel dengan `plt.xticks()` karena jika tidak diatur labelnya bertabrakan jadi tidak rapi."
   ]
  },
  {
   "cell_type": "markdown",
   "id": "58eb3f81-9a28-4dc3-b178-f77735a994b4",
   "metadata": {},
   "source": [
    "# 4. Conclusion"
   ]
  },
  {
   "cell_type": "markdown",
   "id": "5b408480-0397-4ca3-8f4e-b0411126844a",
   "metadata": {},
   "source": [
    "* Dari sebelum tanggal `2023-02-01` sampai pertengahan tanggal `2023-03-1 dan 2023-03-08` dan pada pertengahan tanggal `2023-03-15 dan 2023-03-22` sampai tanggal lebih dari `2023-03-22` terjadi kenaikan dan penurunan volume perdagangan yang cukup konstan.\n",
    "* Terjadi peningkatan dan penurunan volume perdagangan yang signifikan pada pertengahan tanggal `2023-03-01 dan 2023-03-08` dan pada pertengahan tanggal `2023-03-08 dan pertengahan 2023-03-15` sampai pertengahan tanggal `2023-03-15 dan pertengahan 2023-03-22`."
   ]
  },
  {
   "cell_type": "code",
   "execution_count": null,
   "id": "945c65d7-c654-41e9-aa92-12e5faef6972",
   "metadata": {},
   "outputs": [],
   "source": []
  }
 ],
 "metadata": {
  "kernelspec": {
   "display_name": "Python 3 (ipykernel)",
   "language": "python",
   "name": "python3"
  },
  "language_info": {
   "codemirror_mode": {
    "name": "ipython",
    "version": 3
   },
   "file_extension": ".py",
   "mimetype": "text/x-python",
   "name": "python",
   "nbconvert_exporter": "python",
   "pygments_lexer": "ipython3",
   "version": "3.8.16"
  }
 },
 "nbformat": 4,
 "nbformat_minor": 5
}
